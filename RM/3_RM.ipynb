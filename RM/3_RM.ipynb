{
 "cells": [
  {
   "cell_type": "code",
   "execution_count": null,
   "metadata": {},
   "outputs": [],
   "source": [
    "import numpy as np\n",
    "import pandas as pd\n",
    "import pytorch_lightning as pl\n",
    "from torch import nn\n",
    "from torch.utils.data import DataLoader, Dataset\n",
    "from torchmetrics import Metric\n",
    "\n",
    "from callbacks import print_callback\n",
    "from data_module import TimeSeriesDataModule\n",
    "from model import LSTMModel\n",
    "\n",
    "from pytorch_lightning.callbacks import EarlyStopping\n",
    "\n",
    "early_stop_callback = EarlyStopping(\"val_epoch_average_acc\", patience=5, mode=\"min\", strict=True)\n",
    "\n",
    "\n",
    "pl.seed_everything(42)\n",
    "dm = TimeSeriesDataModule(version=\"v1\", batch_size=20)\n",
    "model = LSTMModel(dm, hidden_size=250, num_layers=6)\n",
    "trainer = pl.Trainer(min_epochs=1, max_epochs=250, callbacks=[early_stop_callback, print_callback], check_val_every_n_epoch=3)\n",
    "trainer.fit(model, dm)"
   ]
  }
 ],
 "metadata": {
  "kernelspec": {
   "display_name": "ds",
   "language": "python",
   "name": "python3"
  },
  "language_info": {
   "codemirror_mode": {
    "name": "ipython",
    "version": 3
   },
   "file_extension": ".py",
   "mimetype": "text/x-python",
   "name": "python",
   "nbconvert_exporter": "python",
   "pygments_lexer": "ipython3",
   "version": "3.12.7"
  }
 },
 "nbformat": 4,
 "nbformat_minor": 2
}
