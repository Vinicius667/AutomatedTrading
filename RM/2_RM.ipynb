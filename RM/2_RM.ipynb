{
 "cells": [
  {
   "cell_type": "code",
   "execution_count": null,
   "metadata": {},
   "outputs": [],
   "source": [
    "import pandas as pd\n",
    "\n",
    "import pandas_ta as ta\n",
    "import numpy as np\n",
    "import os\n",
    "import pickle\n",
    "\n",
    "from utils import get_strat_df, initial_columns\n",
    "\n",
    "# Show all columns\n",
    "pd.set_option(\"display.max_columns\", None)"
   ]
  },
  {
   "cell_type": "code",
   "execution_count": null,
   "metadata": {},
   "outputs": [],
   "source": [
    "with open(\"dict_added_columns.pickle\", \"rb\") as f:\n",
    "    dict_added_columns = pickle.load(f)\n",
    "\n",
    "\n",
    "dict_col_parent_strat = {}\n",
    "\n",
    "for parent_stat, col_child in dict_added_columns.items():\n",
    "    for col in col_child:\n",
    "        dict_col_parent_strat[col] = parent_stat"
   ]
  },
  {
   "cell_type": "code",
   "execution_count": null,
   "metadata": {},
   "outputs": [],
   "source": [
    "agg_time = 60 * 6  # Aggregate time in minutes\n",
    "\n",
    "df_strats = get_strat_df(360)"
   ]
  },
  {
   "cell_type": "code",
   "execution_count": null,
   "metadata": {},
   "outputs": [],
   "source": [
    "if \"Timestamp\" in df_strats.columns:\n",
    "    del df_strats[\"Timestamp\"]"
   ]
  },
  {
   "cell_type": "code",
   "execution_count": null,
   "metadata": {},
   "outputs": [],
   "source": [
    "# Make sure all added columns had their parent identified\n",
    "list_no_parent = []\n",
    "for col in df_strats.columns:\n",
    "    if col in dict_col_parent_strat and col not in initial_columns:\n",
    "        if col not in dict_col_parent_strat:\n",
    "            print(f\"Column {col} has no parent identified\")\n",
    "\n",
    "assert len(list_no_parent) == 0"
   ]
  },
  {
   "cell_type": "code",
   "execution_count": null,
   "metadata": {},
   "outputs": [],
   "source": [
    "# Problematic strategies will be removed if all their children have been removed\n",
    "dict_strat_strikes = {}\n",
    "\n",
    "for col_child, parent_stat in dict_col_parent_strat.items():\n",
    "    if parent_stat in dict_strat_strikes:\n",
    "        dict_strat_strikes[parent_stat] += 1\n",
    "    else:\n",
    "        dict_strat_strikes[parent_stat] = 1"
   ]
  },
  {
   "cell_type": "code",
   "execution_count": null,
   "metadata": {},
   "outputs": [],
   "source": [
    "# Drop columns with NaN values in the last n rows. Some of these strategies are problematic probably due to\n",
    "# the usage of future data\n",
    "\n",
    "aux = df_strats.head(1).isna().sum()\n",
    "\n",
    "cols_to_delete = aux[df_strats.tail(1000).isna().sum() > 0].index\n",
    "\n",
    "\n",
    "for col in cols_to_delete:\n",
    "    last_nan_idx = df_strats[col][df_strats[col].isna()].index[-1]\n",
    "    dict_strat_strikes[dict_col_parent_strat[col]] -= 1\n",
    "    del df_strats[col]\n",
    "    print(f\"Column {col} | Last NaN index: {last_nan_idx}\")"
   ]
  },
  {
   "cell_type": "code",
   "execution_count": null,
   "metadata": {},
   "outputs": [],
   "source": [
    "# Drop columns with no variation\n",
    "quant_last_10_pct = int(df_strats.shape[0] / 10)\n",
    "aux = df_strats.head(1).isna().sum()\n",
    "cols_check_no_var = aux[df_strats.tail(quant_last_10_pct).diff().nunique() < 10]\n",
    "dict_variation = {}\n",
    "for col in cols_check_no_var.index:\n",
    "    variation = 1 - ((df_strats[col].diff() == 0) | (df_strats[col].isna())).sum() / df_strats.shape[0]\n",
    "    dict_variation[col] = variation\n",
    "    if variation < 0.01:\n",
    "        dict_strat_strikes[dict_col_parent_strat[col]] -= 1\n",
    "        del df_strats[col]\n",
    "        print(f\"Column {col} | Variation: {variation}\")\n"
   ]
  },
  {
   "cell_type": "code",
   "execution_count": null,
   "metadata": {},
   "outputs": [],
   "source": [
    "\"\"\"for col_child, parent_strat in dict_col_parent_strat.items():\n",
    "    if col_child not in df_strats.columns:\n",
    "        dict_strat_strikes[parent_strat] -= 1\n",
    "        print(f\"Column {col_child} has been removed\")\n",
    "\"\"\""
   ]
  },
  {
   "cell_type": "code",
   "execution_count": null,
   "metadata": {},
   "outputs": [],
   "source": [
    "list_cols_predict = [col for col in df_strats.columns if col not in initial_columns]\n",
    "list_strats = [strat for strat in dict_strat_strikes if dict_strat_strikes[strat] > 0]"
   ]
  },
  {
   "cell_type": "code",
   "execution_count": null,
   "metadata": {},
   "outputs": [],
   "source": [
    "with open(\"list_cols_predict\", \"wb\") as f:\n",
    "    pickle.dump(list_cols_predict, f)\n",
    "\n",
    "with open(\"list_strats\", \"wb\") as f:\n",
    "    pickle.dump(list_strats, f)"
   ]
  },
  {
   "cell_type": "code",
   "execution_count": null,
   "metadata": {},
   "outputs": [],
   "source": [
    "# The following code will be used to identify the strategies that are not adding value to the prediction\n",
    "# Some features have a very long inertia and are not useful for short term predictions\n",
    "\n",
    "quant_half = int(df_strats.shape[0] / 2)\n",
    "quant_1pct = int(5 * df_strats.shape[0] / 100)\n",
    "df_strats_copy = df_strats.iloc[quant_last_10_pct:][initial_columns]\n",
    "strategies = ta.Strategy(\"strats\", [{\"kind\": strat} for strat in list_strats])\n",
    "df_strats_copy.ta.strategy(strategies)\n",
    "df_strats_copy = df_strats_copy[list_cols_predict]\n",
    "base_line_df = df_strats.iloc[quant_last_10_pct:][list_cols_predict]\n",
    "\n",
    "aux_df = (df_strats_copy - base_line_df).abs() < 1e-2 * (df_strats_copy.abs() + base_line_df.abs())\n",
    "aux_df.reset_index(inplace=True, drop=True)\n",
    "dict_col_inertia = {}\n",
    "\n",
    "for col in aux_df.columns:\n",
    "    dict_col_inertia[col] = aux_df[col][aux_df[col] == False].index[-1] if False in aux_df[col].values else 0\n",
    "\n",
    "print(dict_col_inertia)\n",
    "\n",
    "with open(f\"dict_col_inertia_{agg_time}_min\", \"wb\") as f:\n",
    "    pickle.dump(dict_col_inertia, f)"
   ]
  }
 ],
 "metadata": {
  "kernelspec": {
   "display_name": "ds",
   "language": "python",
   "name": "python3"
  },
  "language_info": {
   "codemirror_mode": {
    "name": "ipython",
    "version": 3
   },
   "file_extension": ".py",
   "mimetype": "text/x-python",
   "name": "python",
   "nbconvert_exporter": "python",
   "pygments_lexer": "ipython3",
   "version": "3.12.4"
  }
 },
 "nbformat": 4,
 "nbformat_minor": 2
}
