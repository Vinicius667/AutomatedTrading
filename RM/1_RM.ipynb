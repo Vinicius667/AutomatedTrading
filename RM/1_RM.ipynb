{
 "cells": [
  {
   "cell_type": "code",
   "execution_count": null,
   "metadata": {},
   "outputs": [],
   "source": [
    "import pandas as pd\n",
    "import numpy as np\n",
    "import pandas_ta as ta"
   ]
  },
  {
   "cell_type": "code",
   "execution_count": null,
   "metadata": {},
   "outputs": [],
   "source": [
    "df_strats = pd.read_parquet(\"btcusd_1-min_data.parquet\")\n",
    "all_ta = list((x for x in dir(pd.DataFrame().ta) if not x.startswith(\"_\") and not x.endswith(\"_\")))\n",
    "df_strats.Timestamp = pd.to_datetime(df_strats.Timestamp, unit=\"s\")\n",
    "df_strats.set_index(pd.DatetimeIndex(df_strats[\"Timestamp\"]), inplace=True, drop=True)\n",
    "if \"Timestamp\" in df_strats.columns:\n",
    "    df_strats.drop(columns=[\"Timestamp\"], inplace=True)"
   ]
  },
  {
   "cell_type": "code",
   "execution_count": null,
   "metadata": {},
   "outputs": [],
   "source": [
    "initial_columns = df_strats.columns\n",
    "dict_added_columns = {}\n",
    "for strategy in all_ta:\n",
    "    df_copy = df_strats.head(100).copy(deep=True)\n",
    "    try:\n",
    "        strategy_obj = ta.Strategy(\"a\", [{\"kind\": strategy}])\n",
    "        df_copy.ta.strategy(strategy_obj)\n",
    "    except Exception as e:\n",
    "        print(f\"Strategy: {strategy} - Error: {e}\")\n",
    "    added_columns = [x for x in df_copy.columns if x not in initial_columns]\n",
    "    dict_added_columns[strategy] = added_columns\n",
    "    print(f\"Strategy: {strategy} - Added columns: {len(added_columns)}\")"
   ]
  },
  {
   "cell_type": "code",
   "execution_count": null,
   "metadata": {},
   "outputs": [],
   "source": [
    "# Make sure the reason some strategies are not working is not because of how short the data is\n",
    "for key, value in dict_added_columns.items():\n",
    "    if len(value) == 0:\n",
    "        df_copy = df_strats.copy(deep=True)\n",
    "        try:\n",
    "            strategy_obj = ta.Strategy(\"a\", [{\"kind\": key}])\n",
    "            df_copy.ta.strategy(strategy_obj)\n",
    "        except Exception as e:\n",
    "            print(f\"Strategy: {key} - Error: {e}\")\n",
    "        added_columns = [x for x in df_copy.columns if x not in initial_columns]\n",
    "        dict_added_columns[key] = added_columns\n",
    "        print(f\"Strategy: {key} - Added columns: {len(added_columns)}\")"
   ]
  },
  {
   "cell_type": "code",
   "execution_count": null,
   "metadata": {},
   "outputs": [],
   "source": [
    "import pickle\n",
    "\n",
    "# Save dict_added_columns\n",
    "with open(\"dict_added_columns.pickle\", \"wb\") as handle:\n",
    "    pickle.dump(dict_added_columns, handle, protocol=pickle.HIGHEST_PROTOCOL)"
   ]
  }
 ],
 "metadata": {
  "kernelspec": {
   "display_name": "ds",
   "language": "python",
   "name": "python3"
  },
  "language_info": {
   "codemirror_mode": {
    "name": "ipython",
    "version": 3
   },
   "file_extension": ".py",
   "mimetype": "text/x-python",
   "name": "python",
   "nbconvert_exporter": "python",
   "pygments_lexer": "ipython3",
   "version": "3.12.4"
  }
 },
 "nbformat": 4,
 "nbformat_minor": 2
}
